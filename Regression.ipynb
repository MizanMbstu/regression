{
 "cells": [
  {
   "cell_type": "markdown",
   "metadata": {},
   "source": [
    "# Method 1 (Correlation Coefficient Formula)"
   ]
  },
  {
   "cell_type": "markdown",
   "metadata": {},
   "source": [
    "Import small dataset"
   ]
  },
  {
   "cell_type": "code",
   "execution_count": 1,
   "metadata": {},
   "outputs": [],
   "source": [
    "x <-c(1,3,4,4,6,8,10,10,11,13)\n",
    "y <-c(80,97,92,102,103,111,119,123,117,136)"
   ]
  },
  {
   "cell_type": "markdown",
   "metadata": {},
   "source": [
    "Here I am using Correlation Coefficient Formula\n",
    "![Correlation Coefficient Formula](CorrelationCoefficientFormula.png)"
   ]
  },
  {
   "cell_type": "markdown",
   "metadata": {},
   "source": [
    "Using this formula "
   ]
  },
  {
   "cell_type": "code",
   "execution_count": 2,
   "metadata": {},
   "outputs": [
    {
     "name": "stdout",
     "output_type": "stream",
     "text": [
      "[1] \"Slope = 4\"\n",
      "[1] \"Intercept = 80\"\n"
     ]
    }
   ],
   "source": [
    "x2 <- x^2 # Square of x \n",
    "\n",
    "sxy <- sum(x*y) # Sum of x* y\n",
    "\n",
    "sxsy <- sum(x)*sum(y) # sum of x multiple sum of y \n",
    "\n",
    "sx2 <- sum(x2) # sum of x square\n",
    "\n",
    "n <- length(x) # length of dataset\n",
    "\n",
    "sx <- sum(x) # sum of x\n",
    "\n",
    "th1 <- (sxy-sxsy/n)/(sx2-sx^2/n)\n",
    "th0 <- mean(y)-th1*mean(x)\n",
    "\n",
    "print(paste(\"Slope =\",th1))\n",
    "print(paste(\"Intercept =\",th0))"
   ]
  },
  {
   "cell_type": "code",
   "execution_count": 3,
   "metadata": {},
   "outputs": [
    {
     "name": "stderr",
     "output_type": "stream",
     "text": [
      "Warning message:\n",
      "\"package 'ggplot2' was built under R version 4.0.4\"\n"
     ]
    },
    {
     "data": {
      "image/png": "[encoded data removed]",
      "text/plain": [
       "plot without title"
      ]
     },
     "metadata": {
      "image/png": {
       "height": 420,
       "width": 420
      }
     },
     "output_type": "display_data"
    }
   ],
   "source": [
    "#install.packages('ggplot2')\n",
    "library(ggplot2)\n",
    "ggplot() +\n",
    "  geom_point(aes(x , y ),colour = 'red')+\n",
    "  geom_line(aes(x , y = x*th1+th0),\n",
    "     colour = 'blue') +ggtitle('Price vs size (Training set)') +\n",
    "  xlab('House Size') +\n",
    "  ylab('House Price')"
   ]
  },
  {
   "cell_type": "markdown",
   "metadata": {},
   "source": [
    "# Method 2 (Gradient Descent Algorithm)"
   ]
  },
  {
   "cell_type": "markdown",
   "metadata": {},
   "source": [
    "![Gradient Descent Algorithm](GradientDescentAlgorithm.png)"
   ]
  },
  {
   "cell_type": "code",
   "execution_count": 4,
   "metadata": {},
   "outputs": [
    {
     "name": "stdout",
     "output_type": "stream",
     "text": [
      "[1] \"Slope = 4.00000000000353\"\n",
      "[1] \"Intercept = 79.9999999999682\"\n"
     ]
    }
   ],
   "source": [
    " x <-c(1,3,4,4,6,8,10,10,11,13)\n",
    " y <-c(80,97,92,102,103,111,119,123,117,136)\n",
    "\n",
    "\n",
    "\n",
    "m <-length(x)\n",
    "\n",
    "#learning rate \n",
    "alpha = 0.001\n",
    "\n",
    "th0 <- 1\n",
    "th1 <- 1\n",
    "\n",
    "\n",
    " for(i in 1:1000000){\n",
    "\n",
    "dth0 <- 1/m * sum(th0 + th1*x - y)\n",
    "dth1 <- 1/m * sum((th0 + th1*x - y)*x)\n",
    "\n",
    "temp0 <- th0 - alpha * dth0\n",
    "temp1 <- th1 - alpha * dth1\n",
    "\n",
    "\n",
    "th0 <- temp0\n",
    "th1 <- temp1\n",
    "}\n",
    "print(paste(\"Slope =\",th1))\n",
    "print(paste(\"Intercept =\",th0))"
   ]
  },
  {
   "cell_type": "markdown",
   "metadata": {},
   "source": [
    "# Method 3 (Normal Equation Algorithm)"
   ]
  },
  {
   "cell_type": "markdown",
   "metadata": {},
   "source": [
    "![Normal Equation](NormalEquation.png)\n"
   ]
  },
  {
   "cell_type": "code",
   "execution_count": 5,
   "metadata": {},
   "outputs": [
    {
     "name": "stderr",
     "output_type": "stream",
     "text": [
      "Loading required package: MASS\n",
      "\n"
     ]
    },
    {
     "name": "stdout",
     "output_type": "stream",
     "text": [
      "[1] \"Slope = 4.00000000000002\"\n",
      "[1] \"Intercept = 79.9999999999997\"\n"
     ]
    }
   ],
   "source": [
    "x <-c(1,3,4,4,6,8,10,10,11,13)\n",
    "y <-c(80,97,92,102,103,111,119,123,117,136)\n",
    "\n",
    "#Write a function for normal equation\n",
    "NormEquation <- function(x, y){\n",
    "  require(MASS) # Mass pacakege is require for Matrix opreation \n",
    "    \n",
    "  x <- cbind(rep(1,nrow(x)), x)\n",
    "  ntheta <- ginv(t(x) %*% x) %*% t(x) %*% y\n",
    "  return(ntheta)\n",
    "}\n",
    "  \n",
    "x <- as.matrix(x)\n",
    "y <- as.matrix(y)\n",
    "ntheta <- NormEquation(x, y)\n",
    "print(paste(\"Slope =\",ntheta[2,1]))\n",
    "print(paste(\"Intercept =\",ntheta[1,1]))\n"
   ]
  },
  {
   "cell_type": "markdown",
   "metadata": {},
   "source": [
    "# Method 4 (R function)"
   ]
  },
  {
   "cell_type": "code",
   "execution_count": 6,
   "metadata": {},
   "outputs": [
    {
     "data": {
      "text/plain": [
       "\n",
       "Call:\n",
       "lm(formula = y ~ x)\n",
       "\n",
       "Coefficients:\n",
       "(Intercept)            x  \n",
       "         80            4  \n"
      ]
     },
     "metadata": {},
     "output_type": "display_data"
    }
   ],
   "source": [
    " x <-c(1,3,4,4,6,8,10,10,11,13)\n",
    " y <-c(80,97,92,102,103,111,119,123,117,136)\n",
    "regressor <- lm(y~x)\n",
    "regressor"
   ]
  }
 ],
 "metadata": {
  "kernelspec": {
   "display_name": "R",
   "language": "R",
   "name": "ir"
  },
  "language_info": {
   "codemirror_mode": "r",
   "file_extension": ".r",
   "mimetype": "text/x-r-source",
   "name": "R",
   "pygments_lexer": "r",
   "version": "4.0.3"
  }
 },
 "nbformat": 4,
 "nbformat_minor": 4
}
